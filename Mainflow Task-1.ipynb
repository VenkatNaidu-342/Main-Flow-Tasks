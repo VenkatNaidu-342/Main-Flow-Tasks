{
 "cells": [
  {
   "cell_type": "markdown",
   "id": "91c425a9-af0a-45c5-a3da-268773756817",
   "metadata": {},
   "source": [
    "Lists in Python"
   ]
  },
  {
   "cell_type": "code",
   "execution_count": 13,
   "id": "64244184-9137-40b6-9f7d-29c5fee0917c",
   "metadata": {},
   "outputs": [
    {
     "name": "stdout",
     "output_type": "stream",
     "text": [
      "Initial List: [1, 2, 3, 4, 5]\n",
      "List after adding an element: [1, 2, 3, 4, 5, 6]\n",
      "List after removing an element: [1, 2, 4, 5, 6]\n",
      "List after modifying an element: [10, 2, 4, 5, 6]\n",
      "List after inserting an element in index 2: [10, 2, 'hi', 4, 5, 6]\n",
      "Updating List: [10, 2, 'hi', 4, 5, 6]\n"
     ]
    }
   ],
   "source": [
    "#creating a list\n",
    "my_list = [1, 2, 3, 4, 5]\n",
    "print(\"Initial List:\", my_list)\n",
    "\n",
    "#adding an element to the list\n",
    "my_list.append(6)\n",
    "print(\"List after adding an element:\", my_list)\n",
    "\n",
    "#removing an element from the list\n",
    "my_list.remove(3)\n",
    "print(\"List after removing an element:\", my_list)\n",
    "\n",
    "#modifying an element to the list\n",
    "my_list[0] = 10\n",
    "print(\"List after modifying an element:\", my_list)\n",
    "\n",
    "#inserting an element in our list\n",
    "my_list.insert(2, \"hi\")\n",
    "print(\"List after inserting an element in index 2:\", my_list)\n",
    "\n",
    "print(\"Updating List:\", my_list)"
   ]
  },
  {
   "cell_type": "markdown",
   "id": "edef0e70-676c-4727-9841-0dd9e323e5b3",
   "metadata": {},
   "source": [
    "Dictionaries in Python"
   ]
  },
  {
   "cell_type": "code",
   "execution_count": 14,
   "id": "5f6a7f0d-99f5-453a-aadd-94ede975d75e",
   "metadata": {},
   "outputs": [
    {
     "name": "stdout",
     "output_type": "stream",
     "text": [
      "Initial Dictionary: {'name': 'John', 'age': 25, 'city': 'Delhi'}\n",
      "Dictionary after adding a pair: {'name': 'John', 'age': 25, 'city': 'Delhi', 'gender': 'Male'}\n",
      "Dictionary after removing a pair: {'name': 'John', 'city': 'Delhi', 'gender': 'Male'}\n",
      "Dictionary after modifying a value: {'name': 'John', 'city': 'Mumbai', 'gender': 'Male'}\n",
      "Updated Dictionary: {'name': 'John', 'city': 'Mumbai', 'gender': 'Male'}\n"
     ]
    }
   ],
   "source": [
    "#creating a dictionary\n",
    "my_dict = {'name': 'John', 'age': 25, 'city': 'Delhi'}\n",
    "print(\"Initial Dictionary:\", my_dict)\n",
    "\n",
    "#adding a key-value pair to the dictionary\n",
    "my_dict['gender'] = 'Male'\n",
    "print(\"Dictionary after adding a pair:\", my_dict)\n",
    "\n",
    "#removing a key-value from the dictionary\n",
    "del my_dict['age']\n",
    "print(\"Dictionary after removing a pair:\", my_dict)\n",
    "\n",
    "#modifying a value in the dictionary\n",
    "my_dict['city'] = 'Mumbai'\n",
    "print(\"Dictionary after modifying a value:\", my_dict)\n",
    "\n",
    "print(\"Updated Dictionary:\", my_dict)"
   ]
  },
  {
   "cell_type": "markdown",
   "id": "d4411f65-de6d-4776-87e9-1801cbf7faa9",
   "metadata": {},
   "source": [
    "Tuples in Python"
   ]
  },
  {
   "cell_type": "code",
   "execution_count": 18,
   "id": "bc7403af-9187-48bb-8055-368a0606f094",
   "metadata": {},
   "outputs": [
    {
     "name": "stdout",
     "output_type": "stream",
     "text": [
      "Original Tuple (1, 2, 3)\n",
      "Tuple after adding an element: (1, 2, 3, 4)\n",
      "Tuple after removing an element: (1, 3)\n",
      "Tuple after modifying an element: (1, 2, 5)\n",
      "Updated Tuple: (1, 2, 5)\n"
     ]
    }
   ],
   "source": [
    "# Original Tuple\n",
    "original_tuple = (1, 2, 3)\n",
    "print(\"Original Tuple\", original_tuple)\n",
    "\n",
    "# Adding a new element to the tuple\n",
    "new_element = 4\n",
    "updated_tuple = original_tuple + (new_element,)\n",
    "print(\"Tuple after adding an element:\", updated_tuple)\n",
    "\n",
    "# Removing an element from the tuple\n",
    "updated_tuple = original_tuple[:1] + original_tuple[2:]\n",
    "print(\"Tuple after removing an element:\", updated_tuple)\n",
    "\n",
    "# Modifying an element in the tuple\n",
    "modified_element = 5\n",
    "updated_tuple = original_tuple[:2] + (modified_element,) + original_tuple[3:]\n",
    "print(\"Tuple after modifying an element:\", updated_tuple)\n",
    "\n",
    "print(\"Updated Tuple:\", updated_tuple)"
   ]
  }
 ],
 "metadata": {
  "kernelspec": {
   "display_name": "Python 3 (ipykernel)",
   "language": "python",
   "name": "python3"
  },
  "language_info": {
   "codemirror_mode": {
    "name": "ipython",
    "version": 3
   },
   "file_extension": ".py",
   "mimetype": "text/x-python",
   "name": "python",
   "nbconvert_exporter": "python",
   "pygments_lexer": "ipython3",
   "version": "3.12.3"
  }
 },
 "nbformat": 4,
 "nbformat_minor": 5
}
